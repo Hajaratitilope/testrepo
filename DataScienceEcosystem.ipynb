{
 "cells": [
  {
   "cell_type": "markdown",
   "id": "43fbaebb-9b86-471f-9bb9-3505144cb2b9",
   "metadata": {},
   "source": [
    "# Data Science Tool and Ecosystem"
   ]
  },
  {
   "cell_type": "markdown",
   "id": "5b2bb236-0739-420c-9131-5a43e2aad097",
   "metadata": {},
   "source": [
    "In this notebook, Data Science Tools and Ecosystem are summarized."
   ]
  },
  {
   "cell_type": "markdown",
   "id": "202290dc-b86c-42e3-9b2d-43ab43428098",
   "metadata": {},
   "source": [
    "__Objectives:__\n",
    "+ List popular languages for Data Science\n",
    "+ List commonly used libraries in Data Science\n",
    "+ Using Python Programming Languge to carry out simple arithmetic expression"
   ]
  },
  {
   "cell_type": "markdown",
   "id": "a6b1e673-05c1-4ec0-8682-843e2c4f8274",
   "metadata": {},
   "source": [
    "Some of the popular languages that Data Scientists use are:\n",
    "1. Python\n",
    "2. R\n",
    "3. Structured Query Language, SQL"
   ]
  },
  {
   "cell_type": "markdown",
   "id": "85418882-1473-4aaf-a5c7-64afbfa675ee",
   "metadata": {},
   "source": [
    "Some of the commonly used libraries used by Data Scientists include:\n",
    "1. Pandas\n",
    "2. Numpy\n",
    "3. ggplot\n",
    "4. Scikit learn\n",
    "5. Seaborn\n",
    "6. Caret\n",
    "7. dplyr\n",
    "8. Apache Spark"
   ]
  },
  {
   "cell_type": "markdown",
   "id": "4ac77ebd-4ff0-4db2-a2b5-27c2efdf07b0",
   "metadata": {},
   "source": [
    "|Data Science Tools|\n",
    "|------------------|\n",
    "|JupyterLab|\n",
    "|RStudio|\n",
    "|Google Colab|\n"
   ]
  },
  {
   "cell_type": "markdown",
   "id": "c8f87940-6499-4092-801b-8dcdf97e9a58",
   "metadata": {},
   "source": [
    "### Below are a few examples of evaluating arithmetic expressions in Python"
   ]
  },
  {
   "cell_type": "code",
   "execution_count": 1,
   "id": "1e505520-8223-4f38-885e-e086ec71097f",
   "metadata": {},
   "outputs": [
    {
     "data": {
      "text/plain": [
       "17"
      ]
     },
     "execution_count": 1,
     "metadata": {},
     "output_type": "execute_result"
    }
   ],
   "source": [
    "# This a simple arithmetic expression to mutiply then add integers\n",
    "(3*4)+5"
   ]
  },
  {
   "cell_type": "code",
   "execution_count": 3,
   "id": "41101a0f-85ec-4410-919f-885187b40a62",
   "metadata": {},
   "outputs": [
    {
     "name": "stdout",
     "output_type": "stream",
     "text": [
      "3.3333333333333335\n"
     ]
    }
   ],
   "source": [
    "# This will convert 200 minutes to hours by diving by 60\n",
    "x = 200\n",
    "hrMin_conv = x / 60\n",
    "print(hrMin_conv)"
   ]
  },
  {
   "cell_type": "markdown",
   "id": "e8a854e1-d70c-48ba-9cc9-ff482714879c",
   "metadata": {},
   "source": [
    "## Author\n",
    "Hajarat Titilope OLUFADE"
   ]
  },
  {
   "cell_type": "code",
   "execution_count": null,
   "id": "14e13eec-8a6b-4695-badd-d02b5f7ea34b",
   "metadata": {},
   "outputs": [],
   "source": []
  }
 ],
 "metadata": {
  "kernelspec": {
   "display_name": "Python 3 (ipykernel)",
   "language": "python",
   "name": "python3"
  },
  "language_info": {
   "codemirror_mode": {
    "name": "ipython",
    "version": 3
   },
   "file_extension": ".py",
   "mimetype": "text/x-python",
   "name": "python",
   "nbconvert_exporter": "python",
   "pygments_lexer": "ipython3",
   "version": "3.11.7"
  }
 },
 "nbformat": 4,
 "nbformat_minor": 5
}
